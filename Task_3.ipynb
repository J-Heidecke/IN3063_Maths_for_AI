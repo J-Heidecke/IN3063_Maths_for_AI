{
 "cells": [
  {
   "cell_type": "markdown",
   "metadata": {},
   "source": [
    "# Mathematics for AI - Coursework Task 3\n",
    "\n",
    "The third task is about comparing your results with architectures developed using PyTorch.\n",
    "Compare the results obtained in Task 2 to the results obtained using the same architectures implemented in PyTorch. Then,  propose improvements and new architectures that make use of more advanced methods (e.g. Convolutional Neural Networks, dropout, ...). Compare the results. Finally, present the confusion matrix of your best model."
   ]
  },
  {
   "cell_type": "code",
   "execution_count": 8,
   "metadata": {},
   "outputs": [],
   "source": [
    "# Import PyTorch Libraries\n",
    "import torchvision\n",
    "import torch\n",
    "from torchvision import transforms, datasets\n",
    "import torch.nn as nn\n",
    "import torch.nn.functional as F"
   ]
  },
  {
   "cell_type": "code",
   "execution_count": 9,
   "metadata": {},
   "outputs": [],
   "source": [
    "# Split into training and testing dataset\n",
    "train = datasets.MNIST(\"\", train = True, download = True,\n",
    "                       transform = transforms.Compose([transforms.ToTensor()]))\n",
    "test = datasets.MNIST(\"\", train = False, download = True,\n",
    "                       transform = transforms.Compose([transforms.ToTensor()]))\n",
    "train_set = torch.utils.data.DataLoader(train, batch_size = 10, shuffle = True)\n",
    "test_set = torch.utils.data.DataLoader(test, batch_size = 10, shuffle = True)"
   ]
  },
  {
   "cell_type": "code",
   "execution_count": 10,
   "metadata": {},
   "outputs": [],
   "source": [
    "# Build the network\n",
    "class Network(nn.Module):\n",
    "    def __init__(self):\n",
    "        super().__init__()\n",
    "        self.input = nn.Linear(28*28, 64)\n",
    "        self.hidden_1 = nn.Linear(64, 64)\n",
    "        self.output = nn.Linear(64, 10)\n",
    "\n",
    "    def forward(self, X):\n",
    "        X = F.relu(self.input(X))\n",
    "        X = F.relu(self.hidden_1(X))\n",
    "        X = self.output(X)\n",
    "\n",
    "        return F.log_softmax(X, dim = 1)"
   ]
  },
  {
   "cell_type": "code",
   "execution_count": 11,
   "metadata": {},
   "outputs": [],
   "source": [
    "network = Network()"
   ]
  },
  {
   "cell_type": "code",
   "execution_count": 12,
   "metadata": {},
   "outputs": [
    {
     "name": "stdout",
     "output_type": "stream",
     "text": [
      "tensor(0.1696, grad_fn=<NllLossBackward>)\n",
      "tensor(0.0651, grad_fn=<NllLossBackward>)\n",
      "tensor(0.0802, grad_fn=<NllLossBackward>)\n",
      "tensor(0.0387, grad_fn=<NllLossBackward>)\n",
      "tensor(0.0175, grad_fn=<NllLossBackward>)\n",
      "tensor(0.0962, grad_fn=<NllLossBackward>)\n"
     ]
    }
   ],
   "source": [
    "import torch.optim as optim\n",
    "\n",
    "optimizer = optim.Adam(network.parameters(), lr = 0.001)\n",
    "\n",
    "EPOCHS = 6\n",
    "\n",
    "for epochs in range(EPOCHS):\n",
    "    for data in train_set:\n",
    "        X,y = data\n",
    "        network.zero_grad()\n",
    "        output = network(X.view(-1, 28*28))\n",
    "        loss = F.nll_loss(output, y)\n",
    "        loss.backward()\n",
    "        optimizer.step()\n",
    "    print(loss)"
   ]
  },
  {
   "cell_type": "code",
   "execution_count": 13,
   "metadata": {},
   "outputs": [
    {
     "name": "stdout",
     "output_type": "stream",
     "text": [
      "0.99\n"
     ]
    }
   ],
   "source": [
    "# Evaluate Performance - Accuracy\n",
    "correct = 0\n",
    "total = 0\n",
    "\n",
    "with torch.no_grad():\n",
    "    for data in train_set:\n",
    "        X,y = data\n",
    "        output = network(X.view(-1, 28*28))\n",
    "        for idx, i in enumerate(output):\n",
    "            if torch.argmax(i) == y[idx]:\n",
    "                correct += 1\n",
    "            total += 1\n",
    "\n",
    "print(\"Accuracy: \"+round(correct/total, 3))"
   ]
  },
  {
   "cell_type": "markdown",
   "metadata": {},
   "source": [
    "## Increased Number of Epochs"
   ]
  },
  {
   "cell_type": "code",
   "execution_count": 14,
   "metadata": {},
   "outputs": [],
   "source": [
    "networkEpochs = Network()"
   ]
  },
  {
   "cell_type": "code",
   "execution_count": null,
   "metadata": {
    "pycharm": {
     "is_executing": true
    }
   },
   "outputs": [
    {
     "name": "stdout",
     "output_type": "stream",
     "text": [
      "tensor(2.3265, grad_fn=<NllLossBackward>)\n",
      "tensor(2.2758, grad_fn=<NllLossBackward>)\n",
      "tensor(2.2619, grad_fn=<NllLossBackward>)\n",
      "tensor(2.3401, grad_fn=<NllLossBackward>)\n",
      "tensor(2.3149, grad_fn=<NllLossBackward>)\n",
      "tensor(2.3397, grad_fn=<NllLossBackward>)\n",
      "tensor(2.2974, grad_fn=<NllLossBackward>)\n",
      "tensor(2.2667, grad_fn=<NllLossBackward>)\n",
      "tensor(2.3346, grad_fn=<NllLossBackward>)\n",
      "tensor(2.3152, grad_fn=<NllLossBackward>)\n"
     ]
    }
   ],
   "source": [
    "import torch.optim as optim\n",
    "\n",
    "optimizer = optim.SGD(network.parameters(), lr = 0.001)\n",
    "\n",
    "EPOCHS = 100\n",
    "\n",
    "for epochs in range(EPOCHS):\n",
    "    for data in train_set:\n",
    "        X,y = data\n",
    "        network.zero_grad()\n",
    "        output = networkEpochs(X.view(-1, 28*28))\n",
    "        loss = F.nll_loss(output, y)\n",
    "        loss.backward()\n",
    "        optimizer.step()\n",
    "    print(loss)"
   ]
  },
  {
   "cell_type": "code",
   "execution_count": null,
   "metadata": {
    "pycharm": {
     "is_executing": true
    }
   },
   "outputs": [],
   "source": [
    "# Evaluate Performance - Accuracy\n",
    "correct = 0\n",
    "total = 0\n",
    "\n",
    "with torch.no_grad():\n",
    "    for data in train_set:\n",
    "        X,y = data\n",
    "        output = networkEpochs(X.view(-1, 28*28))\n",
    "        for idx, i in enumerate(output):\n",
    "            if torch.argmax(i) == y[idx]:\n",
    "                correct += 1\n",
    "            total += 1\n",
    "\n",
    "print(\"Accuracy: \"+round(correct/total, 3))"
   ]
  },
  {
   "cell_type": "code",
   "execution_count": null,
   "metadata": {
    "pycharm": {
     "is_executing": true
    }
   },
   "outputs": [],
   "source": [
    "zeroT = []\n",
    "zeroF = []\n",
    "oneT = []\n",
    "oneF = []\n",
    "twoT = []\n",
    "twoF = []\n",
    "threeT = []\n",
    "threeF = []\n",
    "fourT = []\n",
    "fourF = []\n",
    "fiveT = []\n",
    "fiveF = []\n",
    "sixT = []\n",
    "sixF = []\n",
    "sevenT = []\n",
    "sevenF = []\n",
    "eightT = []\n",
    "eightF = []\n",
    "nineT = []\n",
    "nineF = []\n",
    "\n",
    "\n",
    "with torch.no_grad():\n",
    "    for data in train_set:\n",
    "        X,y = data\n",
    "        output = network(X.view(-1, 28*28))\n",
    "        for idx, i in enumerate(output):\n",
    "            if torch.argmax(i) == y[idx]:\n",
    "                 if torch.argmax(i) == 0:\n",
    "                    zeroT.append(1)\n",
    "            elif torch.argmax(i) == 1:\n",
    "                   oneT.append(1)\n",
    "            elif torch.argmax(i) == 2:\n",
    "                   twoT.append(1)\n",
    "            elif torch.argmax(i) == 3:\n",
    "                   threeT.append(1)\n",
    "            elif torch.argmax(i) == 4:\n",
    "                   fourT.append(1)\n",
    "            elif torch.argmax(i) == 5:\n",
    "                   fiveT.append(1)\n",
    "            elif torch.argmax(i) == 6:\n",
    "                   sixT.append(1)\n",
    "            elif torch.argmax(i) == 7:\n",
    "                   sevenT.append(1)\n",
    "            elif torch.argmax(i) == 8:\n",
    "                   eightT.append(1)\n",
    "            elif torch.argmax(i) == 9:\n",
    "                    nineT.append(1)\n",
    "        for idx, i in enumerate(output):\n",
    "            if torch.argmax(i) != y[idx]:\n",
    "                if y[idx] == 0:\n",
    "                    zeroF.append(1)\n",
    "                elif y[idx] == 1:\n",
    "                    oneF.append(1)\n",
    "                elif y[idx] == 2:\n",
    "                    twoF.append(1)\n",
    "                elif y[idx] == 3:\n",
    "                    threeF.append(1)\n",
    "                elif y[idx] == 4:\n",
    "                    fourF.append(1)\n",
    "                elif y[idx] == 5:\n",
    "                    fiveF.append(1)\n",
    "                elif y[idx] == 6:\n",
    "                    sixF.append(1)\n",
    "                elif y[idx] == 7:\n",
    "                    sevenF.append(1)\n",
    "                elif y[idx] == 8:\n",
    "                    eightF.append(1)\n",
    "                elif y[idx] == 9:\n",
    "                    nineF.append(1)"
   ]
  },
  {
   "cell_type": "code",
   "execution_count": null,
   "metadata": {
    "pycharm": {
     "is_executing": true
    }
   },
   "outputs": [],
   "source": [
    "zeroT_sum = sum(zeroT)\n",
    "zeroF_sum = sum(zeroF)\n",
    "oneT_sum = sum(oneT)\n",
    "oneF_sum = sum(oneF)\n",
    "twoT_sum = sum(twoT)\n",
    "twoF_sum = sum(twoF)\n",
    "threeT_sum = sum(threeT)\n",
    "threeF_sum = sum(threeF)\n",
    "fourT_sum = sum(fourT)\n",
    "fourF_sum = sum(fourF)\n",
    "fiveT_sum = sum(fiveT)\n",
    "fiveF_sum = sum(fiveF)\n",
    "sixT_sum = sum(sixT)\n",
    "sixF_sum = sum(sixF)\n",
    "sevenT_sum = sum(sevenT)\n",
    "eightT_sum = sum(eightT)\n",
    "eightF_sum = sum(eightF)\n",
    "nineT_sum = sum(nineT)\n",
    "nineF_sum = sum(nineF)"
   ]
  },
  {
   "cell_type": "code",
   "execution_count": null,
   "metadata": {
    "pycharm": {
     "is_executing": true
    }
   },
   "outputs": [],
   "source": [
    "total_sum = [zeroT_sum, oneT_sum, twoT_sum, threeT_sum, fourT_sum, fiveT_sum, sixT_sum, sevenT_sum, eightT_sum, nineT_sum ]"
   ]
  },
  {
   "cell_type": "code",
   "execution_count": null,
   "metadata": {
    "pycharm": {
     "is_executing": true
    }
   },
   "outputs": [],
   "source": [
    "import matplotlib.pyplot as plt\n",
    "import seaborn as sns; sns.set()\n",
    "from sklearn.metrics import confusion_matrix\n",
    "from sklearn.metrics import plot_confusion_matrix\n",
    "\n",
    "def confusionMatrix(pred, test):\n",
    "    mat = confusion_matrix(pred, test)\n",
    "    sns.heatmap(mat.T, square=True, annot=True, fmt='d', cbar=False)\n",
    "    plt.xlabel('true label')\n",
    "    plt.ylabel('predicted label');"
   ]
  },
  {
   "cell_type": "code",
   "execution_count": null,
   "metadata": {
    "pycharm": {
     "is_executing": true
    }
   },
   "outputs": [],
   "source": [
    "confusionMatrix(total_sum, total_sum)"
   ]
  },
  {
   "cell_type": "markdown",
   "metadata": {},
   "source": [
    "## Dropout Layer"
   ]
  },
  {
   "cell_type": "code",
   "execution_count": null,
   "metadata": {
    "pycharm": {
     "is_executing": true
    }
   },
   "outputs": [],
   "source": [
    "class NetworkWithDropout(nn.Module):\n",
    "    def __init__(self):\n",
    "        super().__init__()\n",
    "        self.input = nn.Linear(28*28, 64)\n",
    "        self.hidden_1 = nn.Linear(64, 64)\n",
    "        self.dropout_1 = nn.Dropout(p=0.1)\n",
    "        self.hidden_2 = nn.Linear(64, 64)\n",
    "        self.output = nn.Linear(64, 10)\n",
    "\n",
    "    def forward(self, X):\n",
    "        X = torch.sigmoid(self.input(X))\n",
    "        X = torch.sigmoid(self.hidden_1(X))\n",
    "        X = torch.sigmoid(self.hidden_2(X))\n",
    "        X = self.output(X)\n",
    "        return F.log_softmax(X, dim = 1)"
   ]
  },
  {
   "cell_type": "code",
   "execution_count": null,
   "metadata": {
    "pycharm": {
     "is_executing": true
    }
   },
   "outputs": [],
   "source": [
    "networkD = NetworkWithDropout()"
   ]
  },
  {
   "cell_type": "code",
   "execution_count": null,
   "metadata": {
    "pycharm": {
     "is_executing": true
    }
   },
   "outputs": [],
   "source": [
    "optimizer = optim.SGD(networkD.parameters(), lr = 0.01)\n",
    "\n",
    "EPOCHS = 10\n",
    "\n",
    "for epochs in range(EPOCHS):\n",
    "    for data in train_set:\n",
    "        X,y = data\n",
    "        networkD.zero_grad()\n",
    "        output = networkD(X.view(-1, 28*28))\n",
    "        loss = F.nll_loss(output, y)\n",
    "        loss.backward()\n",
    "        optimizer.step()\n",
    "    print(loss)"
   ]
  },
  {
   "cell_type": "code",
   "execution_count": null,
   "metadata": {
    "pycharm": {
     "is_executing": true
    }
   },
   "outputs": [],
   "source": [
    "correct = 0\n",
    "total = 0\n",
    "\n",
    "with torch.no_grad():\n",
    "    for data in train_set:\n",
    "        X,y = data\n",
    "        output = networkD(X.view(-1, 28*28))\n",
    "    for idx, i in enumerate(output):\n",
    "        if torch.argmax(i) == y[idx]:\n",
    "            correct += 1\n",
    "        total += 1\n",
    "\n",
    "print(round(correct/total, 3))"
   ]
  }
 ],
 "metadata": {
  "kernelspec": {
   "display_name": "Python 3",
   "language": "python",
   "name": "python3"
  },
  "language_info": {
   "codemirror_mode": {
    "name": "ipython",
    "version": 3
   },
   "file_extension": ".py",
   "mimetype": "text/x-python",
   "name": "python",
   "nbconvert_exporter": "python",
   "pygments_lexer": "ipython3",
   "version": "3.8.3"
  }
 },
 "nbformat": 4,
 "nbformat_minor": 4
}