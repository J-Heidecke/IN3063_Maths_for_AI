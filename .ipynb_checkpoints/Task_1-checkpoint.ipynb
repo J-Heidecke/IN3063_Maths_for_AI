{
 "cells": [
  {
   "cell_type": "markdown",
   "metadata": {},
   "source": [
    "## Mathematics for AI - Coursework Task 1\n",
    "\n",
    "The first task tests your Python skills. You need to develop a simple game consisting of a rectangular grid (of size height x width ) where each cell has a random integer value between 0  and 9. An agent starts at the upper-left corner of the grid and must reach the lower-right corner of the grid as fast as possible. You can implement one of the two (or both, for no extra point) game modes:\n",
    "\n",
    "• The time spent on a cell is the number on this cell\n",
    "\n",
    "• The time spent on a cell is the absolute of the difference between the previous cell the agent was on and the current cell it is on.\n",
    "\n",
    "In order to solve this problem, you will provide 3 algorithms:\n",
    "\n",
    "• A first baseline of your choosing. E.g. it can be any search algorithm, or an algorithm using heuristics. It doesn’t have to perform fast or well, but should be better than random movements.\n",
    "\n",
    "• Dijkstra'salgorithm\n",
    "\n",
    "• Ant colony optimization algorithm. You should describe the algorithms and compare them.\n",
    "\n",
    "Are they always solving the problem? How long do they take depending on the size of the maze?"
   ]
  },
  {
   "cell_type": "markdown",
   "metadata": {},
   "source": [
    "## Make Grid"
   ]
  },
  {
   "cell_type": "code",
   "execution_count": 1,
   "metadata": {},
   "outputs": [],
   "source": [
    "# Import (limited) libraries\n",
    "from random import seed\n",
    "from random import randint\n",
    "import numpy as np\n",
    "import sys "
   ]
  },
  {
   "cell_type": "code",
   "execution_count": 3,
   "metadata": {},
   "outputs": [],
   "source": [
    "g = []\n",
    "length = 10\n",
    "seed(9)\n",
    "\n",
    "for row in range(length):\n",
    "    g.append([])\n",
    "    for column in range(length):\n",
    "        g[row].append(randint(0,9))"
   ]
  },
  {
   "cell_type": "code",
   "execution_count": 5,
   "metadata": {},
   "outputs": [
    {
     "name": "stdout",
     "output_type": "stream",
     "text": [
      "[[7 9 5 4 2 2 0 5 8 7]\n",
      " [9 1 5 8 9 0 6 2 7 6]\n",
      " [2 2 3 0 1 2 8 9 1 6]\n",
      " [1 4 3 3 6 1 4 3 6 4]\n",
      " [5 0 3 0 6 0 6 7 2 0]\n",
      " [3 6 1 9 0 1 9 3 3 5]\n",
      " [0 1 2 8 0 8 1 9 7 8]\n",
      " [3 6 1 6 3 1 9 2 2 9]\n",
      " [0 0 4 8 9 2 4 9 0 1]\n",
      " [6 3 2 9 8 0 5 8 9 9]]\n"
     ]
    }
   ],
   "source": [
    "# Convert to numpy.array\n",
    "grid = np.array(g)\n",
    "print(grid)"
   ]
  },
  {
   "cell_type": "markdown",
   "metadata": {},
   "source": [
    "## Baseline Algorithm"
   ]
  },
  {
   "cell_type": "code",
   "execution_count": null,
   "metadata": {},
   "outputs": [],
   "source": []
  },
  {
   "cell_type": "markdown",
   "metadata": {},
   "source": [
    "## Dijkstra's Algorithm"
   ]
  },
  {
   "cell_type": "code",
   "execution_count": null,
   "metadata": {},
   "outputs": [],
   "source": []
  },
  {
   "cell_type": "markdown",
   "metadata": {},
   "source": [
    "## Ant Colony Algorithm"
   ]
  },
  {
   "cell_type": "code",
   "execution_count": null,
   "metadata": {},
   "outputs": [],
   "source": []
  }
 ],
 "metadata": {
  "kernelspec": {
   "display_name": "Python 3",
   "language": "python",
   "name": "python3"
  },
  "language_info": {
   "codemirror_mode": {
    "name": "ipython",
    "version": 3
   },
   "file_extension": ".py",
   "mimetype": "text/x-python",
   "name": "python",
   "nbconvert_exporter": "python",
   "pygments_lexer": "ipython3",
   "version": "3.8.3"
  }
 },
 "nbformat": 4,
 "nbformat_minor": 4
}
