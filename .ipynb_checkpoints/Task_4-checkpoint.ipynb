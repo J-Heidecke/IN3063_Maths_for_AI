{
 "cells": [
  {
   "cell_type": "markdown",
   "metadata": {},
   "source": [
    "# Mathematics for AI - Coursework Task 4\n",
    "\n",
    "For this last optional task, you can work on a topic of your choosing. It must be related to the Module, and different from Tasks 1 to 3."
   ]
  },
  {
   "cell_type": "markdown",
   "metadata": {},
   "source": [
    "## Keras"
   ]
  },
  {
   "cell_type": "code",
   "execution_count": 1,
   "metadata": {},
   "outputs": [],
   "source": [
    "import tensorflow as tf\n",
    "\n",
    "mnist = tf.keras.datasets.mnist\n",
    "(X_train, y_train), (X_test, y_test) = mnist.load_data()\n",
    "\n",
    "X_train = tf.keras.utils.normalize(X_train, axis=1)\n",
    "X_test = tf.keras.utils.normalize(X_test, axis=1)"
   ]
  },
  {
   "cell_type": "code",
   "execution_count": 37,
   "metadata": {},
   "outputs": [
    {
     "name": "stdout",
     "output_type": "stream",
     "text": [
      "Epoch 1/10\n",
      "1875/1875 [==============================] - 2s 810us/step - loss: 2.0723 - accuracy: 0.4357\n",
      "Epoch 2/10\n",
      "1875/1875 [==============================] - 1s 661us/step - loss: 1.1747 - accuracy: 0.7186\n",
      "Epoch 3/10\n",
      "1875/1875 [==============================] - 1s 684us/step - loss: 0.7561 - accuracy: 0.7892\n",
      "Epoch 4/10\n",
      "1875/1875 [==============================] - 2s 897us/step - loss: 0.6061 - accuracy: 0.8276\n",
      "Epoch 5/10\n",
      "1875/1875 [==============================] - 2s 905us/step - loss: 0.5220 - accuracy: 0.8507\n",
      "Epoch 6/10\n",
      "1875/1875 [==============================] - 2s 952us/step - loss: 0.4675 - accuracy: 0.8663\n",
      "Epoch 7/10\n",
      "1875/1875 [==============================] - 2s 880us/step - loss: 0.4280 - accuracy: 0.8767\n",
      "Epoch 8/10\n",
      "1875/1875 [==============================] - 2s 909us/step - loss: 0.4000 - accuracy: 0.8839\n",
      "Epoch 9/10\n",
      "1875/1875 [==============================] - 2s 902us/step - loss: 0.3771 - accuracy: 0.8911\n",
      "Epoch 10/10\n",
      "1875/1875 [==============================] - 2s 876us/step - loss: 0.3571 - accuracy: 0.8978\n"
     ]
    },
    {
     "data": {
      "text/plain": [
       "<tensorflow.python.keras.callbacks.History at 0x25ee24aabe0>"
      ]
     },
     "execution_count": 37,
     "metadata": {},
     "output_type": "execute_result"
    }
   ],
   "source": [
    "model = tf.keras.models.Sequential()\n",
    "# Input Layer\n",
    "model.add(tf.keras.layers.Flatten())\n",
    "model.add(tf.keras.layers.Dense(128,activation=tf.nn.relu))\n",
    "model.add(tf.keras.layers.Dropout(0.3))\n",
    "model.add(tf.keras.layers.Dense(128,activation=tf.nn.sigmoid))\n",
    "model.add(tf.keras.layers.Dense(10,activation=tf.nn.softmax))\n",
    "\n",
    "model.compile(optimizer='SGD',\n",
    "             loss='sparse_categorical_crossentropy',\n",
    "             metrics=['accuracy'])\n",
    "\n",
    "model.fit(X_train, y_train, epochs=10)"
   ]
  },
  {
   "cell_type": "code",
   "execution_count": 38,
   "metadata": {},
   "outputs": [
    {
     "name": "stdout",
     "output_type": "stream",
     "text": [
      "313/313 [==============================] - 0s 500us/step - loss: 0.2962 - accuracy: 0.9173\n",
      "0.296235054731369 0.9172999858856201\n"
     ]
    }
   ],
   "source": [
    "loss, acc = model.evaluate(X_test, y_test)\n",
    "print(loss, acc)"
   ]
  },
  {
   "cell_type": "markdown",
   "metadata": {},
   "source": [
    "##  Tensorflow"
   ]
  },
  {
   "cell_type": "code",
   "execution_count": null,
   "metadata": {},
   "outputs": [],
   "source": []
  }
 ],
 "metadata": {
  "kernelspec": {
   "display_name": "Python 3",
   "language": "python",
   "name": "python3"
  },
  "language_info": {
   "codemirror_mode": {
    "name": "ipython",
    "version": 3
   },
   "file_extension": ".py",
   "mimetype": "text/x-python",
   "name": "python",
   "nbconvert_exporter": "python",
   "pygments_lexer": "ipython3",
   "version": "3.8.3"
  }
 },
 "nbformat": 4,
 "nbformat_minor": 4
}
