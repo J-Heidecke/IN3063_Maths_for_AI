{
 "cells": [
  {
   "cell_type": "markdown",
   "metadata": {},
   "source": [
    "# Mathematics for AI - Coursework Task 4\n",
    "\n",
    "We have only provided the basic structure here, as well as the Adam optimizer and Dropout layer to keep the notebook concise."
   ]
  },
  {
   "cell_type": "markdown",
   "metadata": {},
   "source": [
    "## Keras\n",
    "\n",
    "### Task 2 Architecture"
   ]
  },
  {
   "cell_type": "code",
   "execution_count": 1,
   "metadata": {},
   "outputs": [],
   "source": [
    "# Import library\n",
    "import tensorflow as tf\n",
    "\n",
    "# Import data - split into test and train\n",
    "mnist = tf.keras.datasets.mnist\n",
    "(X_train, y_train), (X_test, y_test) = mnist.load_data()\n",
    "\n",
    "# Normalize data\n",
    "X_train = tf.keras.utils.normalize(X_train, axis=1)\n",
    "X_test = tf.keras.utils.normalize(X_test, axis=1)"
   ]
  },
  {
   "cell_type": "code",
   "execution_count": 6,
   "metadata": {},
   "outputs": [
    {
     "name": "stdout",
     "output_type": "stream",
     "text": [
      "Epoch 1/100\n",
      "1875/1875 [==============================] - 4s 2ms/step - loss: 2.0381 - accuracy: 0.4569\n",
      "Epoch 2/100\n",
      "1875/1875 [==============================] - 4s 2ms/step - loss: 1.0191 - accuracy: 0.7807\n",
      "Epoch 3/100\n",
      "1875/1875 [==============================] - 4s 2ms/step - loss: 0.6073 - accuracy: 0.8440\n",
      "Epoch 4/100\n",
      "1875/1875 [==============================] - 4s 2ms/step - loss: 0.4751 - accuracy: 0.8721\n",
      "Epoch 5/100\n",
      "1875/1875 [==============================] - 4s 2ms/step - loss: 0.4105 - accuracy: 0.8863\n",
      "Epoch 6/100\n",
      "1875/1875 [==============================] - 4s 2ms/step - loss: 0.3729 - accuracy: 0.8949\n",
      "Epoch 7/100\n",
      "1875/1875 [==============================] - 4s 2ms/step - loss: 0.3476 - accuracy: 0.9016\n",
      "Epoch 8/100\n",
      "1875/1875 [==============================] - 4s 2ms/step - loss: 0.3286 - accuracy: 0.9066\n",
      "Epoch 9/100\n",
      "1875/1875 [==============================] - 4s 2ms/step - loss: 0.3139 - accuracy: 0.9099\n",
      "Epoch 10/100\n",
      "1875/1875 [==============================] - 4s 2ms/step - loss: 0.3016 - accuracy: 0.9134\n",
      "Epoch 11/100\n",
      "1875/1875 [==============================] - 4s 2ms/step - loss: 0.2908 - accuracy: 0.9165\n",
      "Epoch 12/100\n",
      "1875/1875 [==============================] - 4s 2ms/step - loss: 0.2808 - accuracy: 0.9192\n",
      "Epoch 13/100\n",
      "1875/1875 [==============================] - 4s 2ms/step - loss: 0.2722 - accuracy: 0.9213\n",
      "Epoch 14/100\n",
      "1875/1875 [==============================] - 4s 2ms/step - loss: 0.2641 - accuracy: 0.9242\n",
      "Epoch 15/100\n",
      "1875/1875 [==============================] - 4s 2ms/step - loss: 0.2565 - accuracy: 0.9260\n",
      "Epoch 16/100\n",
      "1875/1875 [==============================] - 4s 2ms/step - loss: 0.2493 - accuracy: 0.9285\n",
      "Epoch 17/100\n",
      "1875/1875 [==============================] - 4s 2ms/step - loss: 0.2422 - accuracy: 0.9305\n",
      "Epoch 18/100\n",
      "1875/1875 [==============================] - 4s 2ms/step - loss: 0.2356 - accuracy: 0.9322\n",
      "Epoch 19/100\n",
      "1875/1875 [==============================] - 4s 2ms/step - loss: 0.2292 - accuracy: 0.9342\n",
      "Epoch 20/100\n",
      "1875/1875 [==============================] - 4s 2ms/step - loss: 0.2231 - accuracy: 0.9362\n",
      "Epoch 21/100\n",
      "1875/1875 [==============================] - 4s 2ms/step - loss: 0.2172 - accuracy: 0.9377\n",
      "Epoch 22/100\n",
      "1875/1875 [==============================] - 4s 2ms/step - loss: 0.2115 - accuracy: 0.9393\n",
      "Epoch 23/100\n",
      "1875/1875 [==============================] - 4s 2ms/step - loss: 0.2061 - accuracy: 0.9406\n",
      "Epoch 24/100\n",
      "1875/1875 [==============================] - 4s 2ms/step - loss: 0.2009 - accuracy: 0.9423\n",
      "Epoch 25/100\n",
      "1875/1875 [==============================] - 4s 2ms/step - loss: 0.1958 - accuracy: 0.9441\n",
      "Epoch 26/100\n",
      "1875/1875 [==============================] - 4s 2ms/step - loss: 0.1909 - accuracy: 0.9454\n",
      "Epoch 27/100\n",
      "1875/1875 [==============================] - 4s 2ms/step - loss: 0.1863 - accuracy: 0.9468\n",
      "Epoch 28/100\n",
      "1875/1875 [==============================] - 4s 2ms/step - loss: 0.1818 - accuracy: 0.9478\n",
      "Epoch 29/100\n",
      "1875/1875 [==============================] - 4s 2ms/step - loss: 0.1775 - accuracy: 0.9492\n",
      "Epoch 30/100\n",
      "1875/1875 [==============================] - 4s 2ms/step - loss: 0.1732 - accuracy: 0.9504\n",
      "Epoch 31/100\n",
      "1875/1875 [==============================] - 4s 2ms/step - loss: 0.1691 - accuracy: 0.9515\n",
      "Epoch 32/100\n",
      "1875/1875 [==============================] - 4s 2ms/step - loss: 0.1652 - accuracy: 0.9524\n",
      "Epoch 33/100\n",
      "1875/1875 [==============================] - 4s 2ms/step - loss: 0.1614 - accuracy: 0.9536\n",
      "Epoch 34/100\n",
      "1875/1875 [==============================] - 4s 2ms/step - loss: 0.1577 - accuracy: 0.9546\n",
      "Epoch 35/100\n",
      "1875/1875 [==============================] - 4s 2ms/step - loss: 0.1542 - accuracy: 0.9558\n",
      "Epoch 36/100\n",
      "1875/1875 [==============================] - 4s 2ms/step - loss: 0.1506 - accuracy: 0.9570\n",
      "Epoch 37/100\n",
      "1875/1875 [==============================] - 4s 2ms/step - loss: 0.1473 - accuracy: 0.9579\n",
      "Epoch 38/100\n",
      "1875/1875 [==============================] - 4s 2ms/step - loss: 0.1441 - accuracy: 0.9588\n",
      "Epoch 39/100\n",
      "1875/1875 [==============================] - 4s 2ms/step - loss: 0.1409 - accuracy: 0.9601\n",
      "Epoch 40/100\n",
      "1875/1875 [==============================] - 4s 2ms/step - loss: 0.1380 - accuracy: 0.9608\n",
      "Epoch 41/100\n",
      "1875/1875 [==============================] - 4s 2ms/step - loss: 0.1351 - accuracy: 0.9617\n",
      "Epoch 42/100\n",
      "1875/1875 [==============================] - 4s 2ms/step - loss: 0.1322 - accuracy: 0.9627\n",
      "Epoch 43/100\n",
      "1875/1875 [==============================] - 4s 2ms/step - loss: 0.1294 - accuracy: 0.9635\n",
      "Epoch 44/100\n",
      "1875/1875 [==============================] - 4s 2ms/step - loss: 0.1269 - accuracy: 0.9639\n",
      "Epoch 45/100\n",
      "1875/1875 [==============================] - 4s 2ms/step - loss: 0.1243 - accuracy: 0.9647\n",
      "Epoch 46/100\n",
      "1875/1875 [==============================] - 4s 2ms/step - loss: 0.1217 - accuracy: 0.9658\n",
      "Epoch 47/100\n",
      "1875/1875 [==============================] - 5s 3ms/step - loss: 0.1194 - accuracy: 0.9664\n",
      "Epoch 48/100\n",
      "1875/1875 [==============================] - 4s 2ms/step - loss: 0.1169 - accuracy: 0.9672\n",
      "Epoch 49/100\n",
      "1875/1875 [==============================] - 3s 2ms/step - loss: 0.1148 - accuracy: 0.9681\n",
      "Epoch 50/100\n",
      "1875/1875 [==============================] - 3s 2ms/step - loss: 0.1125 - accuracy: 0.9686\n",
      "Epoch 51/100\n",
      "1875/1875 [==============================] - 3s 2ms/step - loss: 0.1105 - accuracy: 0.9693\n",
      "Epoch 52/100\n",
      "1875/1875 [==============================] - 4s 2ms/step - loss: 0.1083 - accuracy: 0.9697\n",
      "Epoch 53/100\n",
      "1875/1875 [==============================] - 4s 2ms/step - loss: 0.1062 - accuracy: 0.9702\n",
      "Epoch 54/100\n",
      "1875/1875 [==============================] - 3s 2ms/step - loss: 0.1043 - accuracy: 0.9707\n",
      "Epoch 55/100\n",
      "1875/1875 [==============================] - 3s 2ms/step - loss: 0.1024 - accuracy: 0.9712\n",
      "Epoch 56/100\n",
      "1875/1875 [==============================] - 3s 2ms/step - loss: 0.1005 - accuracy: 0.9722\n",
      "Epoch 57/100\n",
      "1875/1875 [==============================] - 3s 2ms/step - loss: 0.0987 - accuracy: 0.9725\n",
      "Epoch 58/100\n",
      "1875/1875 [==============================] - 3s 2ms/step - loss: 0.0969 - accuracy: 0.9726\n",
      "Epoch 59/100\n",
      "1875/1875 [==============================] - 4s 2ms/step - loss: 0.0953 - accuracy: 0.9732\n",
      "Epoch 60/100\n",
      "1875/1875 [==============================] - 4s 2ms/step - loss: 0.0935 - accuracy: 0.9736\n",
      "Epoch 61/100\n",
      "1875/1875 [==============================] - 4s 2ms/step - loss: 0.0919 - accuracy: 0.9740\n",
      "Epoch 62/100\n",
      "1875/1875 [==============================] - 4s 2ms/step - loss: 0.0903 - accuracy: 0.9749\n",
      "Epoch 63/100\n",
      "1875/1875 [==============================] - 4s 2ms/step - loss: 0.0888 - accuracy: 0.9751\n",
      "Epoch 64/100\n",
      "1875/1875 [==============================] - 4s 2ms/step - loss: 0.0873 - accuracy: 0.9758\n",
      "Epoch 65/100\n",
      "1875/1875 [==============================] - 3s 2ms/step - loss: 0.0857 - accuracy: 0.9761\n",
      "Epoch 66/100\n",
      "1875/1875 [==============================] - 4s 2ms/step - loss: 0.0843 - accuracy: 0.9763\n",
      "Epoch 67/100\n",
      "1875/1875 [==============================] - 4s 2ms/step - loss: 0.0829 - accuracy: 0.9768\n",
      "Epoch 68/100\n",
      "1875/1875 [==============================] - 4s 2ms/step - loss: 0.0815 - accuracy: 0.9774\n",
      "Epoch 69/100\n",
      "1875/1875 [==============================] - 4s 2ms/step - loss: 0.0801 - accuracy: 0.9776\n",
      "Epoch 70/100\n",
      "1875/1875 [==============================] - 4s 2ms/step - loss: 0.0788 - accuracy: 0.9779\n",
      "Epoch 71/100\n",
      "1875/1875 [==============================] - 4s 2ms/step - loss: 0.0775 - accuracy: 0.9781\n",
      "Epoch 72/100\n",
      "1875/1875 [==============================] - 4s 2ms/step - loss: 0.0763 - accuracy: 0.9789\n",
      "Epoch 73/100\n",
      "1875/1875 [==============================] - 3s 2ms/step - loss: 0.0750 - accuracy: 0.9794\n",
      "Epoch 74/100\n",
      "1875/1875 [==============================] - 3s 2ms/step - loss: 0.0737 - accuracy: 0.9797\n",
      "Epoch 75/100\n",
      "1875/1875 [==============================] - 4s 2ms/step - loss: 0.0725 - accuracy: 0.9799\n",
      "Epoch 76/100\n",
      "1875/1875 [==============================] - 3s 2ms/step - loss: 0.0714 - accuracy: 0.9805\n",
      "Epoch 77/100\n",
      "1875/1875 [==============================] - 4s 2ms/step - loss: 0.0702 - accuracy: 0.9808\n",
      "Epoch 78/100\n",
      "1875/1875 [==============================] - 4s 2ms/step - loss: 0.0691 - accuracy: 0.9814\n",
      "Epoch 79/100\n",
      "1875/1875 [==============================] - 3s 2ms/step - loss: 0.0679 - accuracy: 0.9815\n",
      "Epoch 80/100\n",
      "1875/1875 [==============================] - 3s 2ms/step - loss: 0.0670 - accuracy: 0.9819\n",
      "Epoch 81/100\n",
      "1875/1875 [==============================] - 3s 2ms/step - loss: 0.0659 - accuracy: 0.9823\n",
      "Epoch 82/100\n",
      "1875/1875 [==============================] - 4s 2ms/step - loss: 0.0649 - accuracy: 0.9826\n",
      "Epoch 83/100\n",
      "1875/1875 [==============================] - 4s 2ms/step - loss: 0.0639 - accuracy: 0.9830\n",
      "Epoch 84/100\n",
      "1875/1875 [==============================] - 4s 2ms/step - loss: 0.0628 - accuracy: 0.9832\n",
      "Epoch 85/100\n",
      "1875/1875 [==============================] - 4s 2ms/step - loss: 0.0619 - accuracy: 0.9837\n",
      "Epoch 86/100\n",
      "1875/1875 [==============================] - 4s 2ms/step - loss: 0.0609 - accuracy: 0.9839\n",
      "Epoch 87/100\n",
      "1875/1875 [==============================] - 4s 2ms/step - loss: 0.0600 - accuracy: 0.9844\n",
      "Epoch 88/100\n",
      "1875/1875 [==============================] - 4s 2ms/step - loss: 0.0590 - accuracy: 0.9844\n",
      "Epoch 89/100\n",
      "1875/1875 [==============================] - 4s 2ms/step - loss: 0.0582 - accuracy: 0.9847\n",
      "Epoch 90/100\n",
      "1875/1875 [==============================] - 3s 2ms/step - loss: 0.0573 - accuracy: 0.9851\n",
      "Epoch 91/100\n",
      "1875/1875 [==============================] - 4s 2ms/step - loss: 0.0564 - accuracy: 0.9855\n",
      "Epoch 92/100\n",
      "1875/1875 [==============================] - 4s 2ms/step - loss: 0.0556 - accuracy: 0.9854\n",
      "Epoch 93/100\n",
      "1875/1875 [==============================] - 4s 2ms/step - loss: 0.0546 - accuracy: 0.9859\n",
      "Epoch 94/100\n",
      "1875/1875 [==============================] - 4s 2ms/step - loss: 0.0540 - accuracy: 0.9857\n",
      "Epoch 95/100\n",
      "1875/1875 [==============================] - 4s 2ms/step - loss: 0.0531 - accuracy: 0.9862\n",
      "Epoch 96/100\n",
      "1875/1875 [==============================] - 3s 2ms/step - loss: 0.0523 - accuracy: 0.9861\n",
      "Epoch 97/100\n",
      "1875/1875 [==============================] - 3s 2ms/step - loss: 0.0516 - accuracy: 0.9867\n",
      "Epoch 98/100\n",
      "1875/1875 [==============================] - 3s 2ms/step - loss: 0.0508 - accuracy: 0.9866\n",
      "Epoch 99/100\n",
      "1875/1875 [==============================] - 3s 2ms/step - loss: 0.0500 - accuracy: 0.9870\n",
      "Epoch 100/100\n",
      "1875/1875 [==============================] - 4s 2ms/step - loss: 0.0493 - accuracy: 0.9872\n"
     ]
    },
    {
     "data": {
      "text/plain": [
       "<tensorflow.python.keras.callbacks.History at 0x19ce15ecdf0>"
      ]
     },
     "execution_count": 6,
     "metadata": {},
     "output_type": "execute_result"
    }
   ],
   "source": [
    "model = tf.keras.models.Sequential()\n",
    "# Input Layer\n",
    "model.add(tf.keras.layers.Flatten())\n",
    "# Hidden Layer 1\n",
    "model.add(tf.keras.layers.Dense(64,activation=tf.nn.relu))\n",
    "# Hidden Layer 2\n",
    "model.add(tf.keras.layers.Dense(64,activation=tf.nn.relu))\n",
    "# Output Layer\n",
    "model.add(tf.keras.layers.Dense(10,activation=tf.nn.softmax))\n",
    "\n",
    "model.compile(optimizer='SGD',\n",
    "             loss='sparse_categorical_crossentropy',\n",
    "             metrics=['accuracy'])\n",
    "\n",
    "model.fit(X_train, y_train, epochs=100)"
   ]
  },
  {
   "cell_type": "code",
   "execution_count": 7,
   "metadata": {},
   "outputs": [
    {
     "name": "stdout",
     "output_type": "stream",
     "text": [
      "313/313 [==============================] - 0s 1ms/step - loss: 0.0891 - accuracy: 0.9723\n",
      "0.08906058967113495 0.9722999930381775\n"
     ]
    }
   ],
   "source": [
    "# Evaluate Neural Network\n",
    "loss, acc = model.evaluate(X_test, y_test)\n",
    "print(loss, acc)"
   ]
  },
  {
   "cell_type": "markdown",
   "metadata": {},
   "source": [
    "### Dropout Layer"
   ]
  },
  {
   "cell_type": "code",
   "execution_count": 3,
   "metadata": {},
   "outputs": [
    {
     "name": "stdout",
     "output_type": "stream",
     "text": [
      "Epoch 1/10\n",
      "1875/1875 [==============================] - 1s 687us/step - loss: 1.1997 - accuracy: 0.6662\n",
      "Epoch 2/10\n",
      "1875/1875 [==============================] - 1s 683us/step - loss: 0.4726 - accuracy: 0.8619\n",
      "Epoch 3/10\n",
      "1875/1875 [==============================] - 2s 807us/step - loss: 0.3746 - accuracy: 0.8904\n",
      "Epoch 4/10\n",
      "1875/1875 [==============================] - 2s 880us/step - loss: 0.3247 - accuracy: 0.9026\n",
      "Epoch 5/10\n",
      "1875/1875 [==============================] - 2s 860us/step - loss: 0.2921 - accuracy: 0.9138\n",
      "Epoch 6/10\n",
      "1875/1875 [==============================] - 1s 767us/step - loss: 0.2699 - accuracy: 0.9203\n",
      "Epoch 7/10\n",
      "1875/1875 [==============================] - 1s 767us/step - loss: 0.2505 - accuracy: 0.9259\n",
      "Epoch 8/10\n",
      "1875/1875 [==============================] - 1s 750us/step - loss: 0.2339 - accuracy: 0.9299\n",
      "Epoch 9/10\n",
      "1875/1875 [==============================] - 1s 750us/step - loss: 0.2187 - accuracy: 0.9351\n",
      "Epoch 10/10\n",
      "1875/1875 [==============================] - 1s 769us/step - loss: 0.2066 - accuracy: 0.9389\n"
     ]
    },
    {
     "data": {
      "text/plain": [
       "<tensorflow.python.keras.callbacks.History at 0x2187cb1b070>"
      ]
     },
     "execution_count": 3,
     "metadata": {},
     "output_type": "execute_result"
    }
   ],
   "source": [
    "model_02 = tf.keras.models.Sequential()\n",
    "# Input Layer\n",
    "model_02.add(tf.keras.layers.Flatten())\n",
    "# Hidden Layer 1\n",
    "model_02.add(tf.keras.layers.Dense(64,activation=tf.nn.relu))\n",
    "# Dropout Layer\n",
    "model_02.add(tf.keras.layers.Dropout(0.1))\n",
    "# Hidden Layer 2\n",
    "model_02.add(tf.keras.layers.Dense(64,activation=tf.nn.relu))\n",
    "# Output Layer\n",
    "model_02.add(tf.keras.layers.Dense(10,activation=tf.nn.softmax))\n",
    "\n",
    "model_02.compile(optimizer='SGD',\n",
    "             loss='sparse_categorical_crossentropy',\n",
    "             metrics=['accuracy'])\n",
    "\n",
    "model_02.fit(X_train, y_train, epochs=10)"
   ]
  },
  {
   "cell_type": "code",
   "execution_count": 4,
   "metadata": {},
   "outputs": [
    {
     "name": "stdout",
     "output_type": "stream",
     "text": [
      "313/313 [==============================] - 0s 548us/step - loss: 0.1744 - accuracy: 0.9472\n",
      "0.17441102862358093 0.9472000002861023\n"
     ]
    }
   ],
   "source": [
    "# Evaluate Neural Network\n",
    "loss, acc = model_02.evaluate(X_test, y_test)\n",
    "print(loss, acc)"
   ]
  },
  {
   "cell_type": "markdown",
   "metadata": {},
   "source": [
    "### Adam Optimizer"
   ]
  },
  {
   "cell_type": "code",
   "execution_count": 5,
   "metadata": {},
   "outputs": [
    {
     "name": "stdout",
     "output_type": "stream",
     "text": [
      "Epoch 1/10\n",
      "1875/1875 [==============================] - 1s 646us/step - loss: 0.3197 - accuracy: 0.9072\n",
      "Epoch 2/10\n",
      "1875/1875 [==============================] - 1s 679us/step - loss: 0.1382 - accuracy: 0.9579\n",
      "Epoch 3/10\n",
      "1875/1875 [==============================] - 1s 715us/step - loss: 0.0980 - accuracy: 0.9699\n",
      "Epoch 4/10\n",
      "1875/1875 [==============================] - 2s 961us/step - loss: 0.0763 - accuracy: 0.9763\n",
      "Epoch 5/10\n",
      "1875/1875 [==============================] - 2s 912us/step - loss: 0.0629 - accuracy: 0.9800\n",
      "Epoch 6/10\n",
      "1875/1875 [==============================] - 2s 847us/step - loss: 0.0517 - accuracy: 0.9834\n",
      "Epoch 7/10\n",
      "1875/1875 [==============================] - 2s 865us/step - loss: 0.0415 - accuracy: 0.9865\n",
      "Epoch 8/10\n",
      "1875/1875 [==============================] - 2s 857us/step - loss: 0.0354 - accuracy: 0.9886\n",
      "Epoch 9/10\n",
      "1875/1875 [==============================] - 2s 906us/step - loss: 0.0306 - accuracy: 0.9900\n",
      "Epoch 10/10\n",
      "1875/1875 [==============================] - 3s 2ms/step - loss: 0.0249 - accuracy: 0.9922\n"
     ]
    },
    {
     "data": {
      "text/plain": [
       "<tensorflow.python.keras.callbacks.History at 0x2187fc4e0d0>"
      ]
     },
     "execution_count": 5,
     "metadata": {},
     "output_type": "execute_result"
    }
   ],
   "source": [
    "model_03 = tf.keras.models.Sequential()\n",
    "# Input Layer\n",
    "model_03.add(tf.keras.layers.Flatten())\n",
    "# Hidden Layer 1\n",
    "model_03.add(tf.keras.layers.Dense(64,activation=tf.nn.relu))\n",
    "# Hidden Layer 2\n",
    "model_03.add(tf.keras.layers.Dense(64,activation=tf.nn.relu))\n",
    "# Output Layer\n",
    "model_03.add(tf.keras.layers.Dense(10,activation=tf.nn.softmax))\n",
    "\n",
    "model_03.compile(optimizer='Adam',\n",
    "             loss='sparse_categorical_crossentropy',\n",
    "             metrics=['accuracy'])\n",
    "\n",
    "model_03.fit(X_train, y_train, epochs=10)"
   ]
  },
  {
   "cell_type": "code",
   "execution_count": 6,
   "metadata": {},
   "outputs": [
    {
     "name": "stdout",
     "output_type": "stream",
     "text": [
      "313/313 [==============================] - 0s 1ms/step - loss: 0.1190 - accuracy: 0.9695\n",
      "0.11897283792495728 0.9695000052452087\n"
     ]
    }
   ],
   "source": [
    "# Evaluate Neural Network\n",
    "loss, acc = model_03.evaluate(X_test, y_test)\n",
    "print(loss, acc)"
   ]
  }
 ],
 "metadata": {
  "kernelspec": {
   "display_name": "Python 3",
   "language": "python",
   "name": "python3"
  },
  "language_info": {
   "codemirror_mode": {
    "name": "ipython",
    "version": 3
   },
   "file_extension": ".py",
   "mimetype": "text/x-python",
   "name": "python",
   "nbconvert_exporter": "python",
   "pygments_lexer": "ipython3",
   "version": "3.8.3"
  }
 },
 "nbformat": 4,
 "nbformat_minor": 4
}
