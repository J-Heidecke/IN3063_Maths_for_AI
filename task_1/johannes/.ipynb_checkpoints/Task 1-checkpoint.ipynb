{
 "cells": [
  {
   "cell_type": "markdown",
   "metadata": {},
   "source": [
    "# Task 1"
   ]
  },
  {
   "cell_type": "code",
   "execution_count": 3,
   "metadata": {},
   "outputs": [],
   "source": [
    "from random import seed\n",
    "from random import randint\n",
    "import numpy as np\n",
    "import time\n",
    "import sys"
   ]
  },
  {
   "cell_type": "markdown",
   "metadata": {},
   "source": [
    "## Make Grid"
   ]
  },
  {
   "cell_type": "code",
   "execution_count": 56,
   "metadata": {},
   "outputs": [
    {
     "name": "stdout",
     "output_type": "stream",
     "text": [
      "[[9 1 7 ... 3 9 6]\n",
      " [4 5 9 ... 7 6 1]\n",
      " [8 6 7 ... 6 7 2]\n",
      " ...\n",
      " [1 9 7 ... 0 7 8]\n",
      " [5 9 7 ... 3 5 4]\n",
      " [4 9 3 ... 9 8 5]]\n"
     ]
    }
   ],
   "source": [
    "g = []\n",
    "width =  50\n",
    "height = 50\n",
    "seed(6)\n",
    "\n",
    "for row in range(height):\n",
    "    g.append([])\n",
    "    for column in range(width):\n",
    "        g[row].append(randint(0, 9))\n",
    "\n",
    "# Convert to numpy.array\n",
    "grid = np.array(g)\n",
    "print(grid)"
   ]
  },
  {
   "cell_type": "markdown",
   "metadata": {},
   "source": [
    "## Baseline Algorithm"
   ]
  },
  {
   "cell_type": "code",
   "execution_count": 28,
   "metadata": {},
   "outputs": [],
   "source": [
    "class Baseline():\n",
    "\n",
    "    def __init__(self, graph):\n",
    "        self.graph = graph\n",
    "\n",
    "    # Algorithm goes down to last row, then right to last column -> finish\n",
    "    def algorithm(self):\n",
    "        src = [0, 0]\n",
    "        current = src\n",
    "        timeSpent = 0  # Total time spent by algorithm\n",
    "        X = current[1]\n",
    "        y = current[0]\n",
    "\n",
    "        # Go down through rows\n",
    "        while (X != (height - 1)):\n",
    "            X += 1\n",
    "            timeSpent += self.graph[X, y]  # Value of field added to total\n",
    "\n",
    "        # Go right through columns\n",
    "        while (y != (width - 1)):\n",
    "            y += 1\n",
    "            timeSpent += self.graph[X, y]  # Value of field added to total\n",
    "\n",
    "        return timeSpent"
   ]
  },
  {
   "cell_type": "code",
   "execution_count": 42,
   "metadata": {},
   "outputs": [
    {
     "name": "stdout",
     "output_type": "stream",
     "text": [
      "884\n",
      "Total Time taken to run code (seconds):  0.0009999275207519531\n"
     ]
    }
   ],
   "source": [
    "metricStartTime = time.time()  # get the time to start the algorithm\n",
    "\n",
    "base = Baseline(grid)\n",
    "result = base.algorithm()\n",
    "print(result)\n",
    "metricEndTime = time.time()  # get time after finishing algorithm\n",
    "print(\"Total Time taken to run code (seconds): \", metricEndTime - metricStartTime)"
   ]
  },
  {
   "cell_type": "markdown",
   "metadata": {},
   "source": [
    "## Dijkstra's Algorithm"
   ]
  },
  {
   "cell_type": "markdown",
   "metadata": {},
   "source": [
    "### Convert grid into graph"
   ]
  },
  {
   "cell_type": "code",
   "execution_count": 44,
   "metadata": {},
   "outputs": [],
   "source": [
    "class Convert:\n",
    "\n",
    "    def __init__(self, grid, source, finish):\n",
    "        self.grid = grid\n",
    "        self.src = source\n",
    "        self.finish = finish\n",
    "\n",
    "    def get_neighbors(self, location):\n",
    "        neighbors = []\n",
    "        if (location[0] + 1) < (height):\n",
    "            neighbors.append([location[0] + 1, location[1]])\n",
    "\n",
    "        if (location[0] - 1) >= 0:\n",
    "            neighbors.append([location[0] - 1, location[1]])\n",
    "\n",
    "        if (location[1] + 1) < (width):\n",
    "            neighbors.append([location[0], location[1] + 1])\n",
    "\n",
    "        if (location[1] - 1) >= 0:\n",
    "            neighbors.append([location[0], location[1] - 1])\n",
    "\n",
    "        return neighbors\n",
    "\n",
    "    def get_edges(self, location):\n",
    "        neighbors = self.get_neighbors(location)\n",
    "        edges = []\n",
    "\n",
    "        for i in neighbors:\n",
    "            edges.append(self.grid[i[0], i[1]])\n",
    "\n",
    "        return edges\n",
    "\n",
    "    def get_name(self, location):\n",
    "        node_name = (location[0] * 100) + location[1]\n",
    "        return str(node_name)\n",
    "\n",
    "    def make_node(self, location):\n",
    "\n",
    "        neighbors = self.get_neighbors(location)\n",
    "        edges = self.get_edges(location)\n",
    "        neighbor_names = []\n",
    "        node_name = self.get_name(location)\n",
    "\n",
    "        for i in neighbors:\n",
    "            neighbor_names.append(self.get_name(i))\n",
    "\n",
    "        neighbor_edges = dict(zip(neighbor_names, edges))\n",
    "\n",
    "        return node_name, neighbor_edges\n",
    "\n",
    "    def convert_grid(self):\n",
    "        nodes = {}\n",
    "        for i in range(self.finish[0]):\n",
    "            for j in range(self.finish[1]):\n",
    "                node = self.make_node([i, j])\n",
    "                nodes[node[0]] = node[1]\n",
    "\n",
    "        return nodes"
   ]
  },
  {
   "cell_type": "code",
   "execution_count": 57,
   "metadata": {},
   "outputs": [],
   "source": [
    "src = [0, 0]\n",
    "finish = [height, width]\n",
    "s = (src[0] * 100) + src[1]\n",
    "e = ((finish[0] * 100) + finish[1]) - 101"
   ]
  },
  {
   "cell_type": "code",
   "execution_count": null,
   "metadata": {},
   "outputs": [],
   "source": [
    "metricStartTime = time.time()\n",
    "def shortestpath(graph, start, end, visited=[], distances={}, predecessors={}):\n",
    "    # detect if first time through, set current distance to zero\n",
    "    if not visited: distances[start] = 0\n",
    "    # if we've found our end node, find the path to it, and return\n",
    "    if start == end:\n",
    "        path = []\n",
    "        while end != None:\n",
    "            path.append(end)\n",
    "            end = predecessors.get(end, None)\n",
    "        return distances[start], path[::-1]\n",
    "    # process neighbors as per algorithm, keep track of predecessors\n",
    "    for neighbor in graph[start]:\n",
    "        if neighbor not in visited:\n",
    "            neighbordist = distances.get(neighbor, sys.maxsize)\n",
    "            tentativedist = distances[start] + graph[start][neighbor]\n",
    "            if tentativedist < neighbordist:\n",
    "                distances[neighbor] = tentativedist\n",
    "                predecessors[neighbor] = start\n",
    "    # neighbors processed, now mark the current node as visited \n",
    "    visited.append(start)\n",
    "    # finds the closest unvisited node to the start \n",
    "    unvisiteds = dict((k, distances.get(k, sys.maxsize)) for k in graph if k not in visited)\n",
    "    closestnode = min(unvisiteds, key=unvisiteds.get)\n",
    "    # now take the closest node and recurse, making it current \n",
    "    return shortestpath(graph, closestnode, end, visited, distances, predecessors)\n",
    "\n",
    "\n",
    "d = Convert(grid, src, finish)\n",
    "graph = d.convert_grid()\n",
    "print(shortestpath(graph, str(s), str(e)))\n",
    "metricEndTime = time.time()\n",
    "print(\"Total Time taken to run code (seconds): \", metricEndTime - metricStartTime)"
   ]
  }
 ],
 "metadata": {
  "kernelspec": {
   "display_name": "Python 3",
   "language": "python",
   "name": "python3"
  },
  "language_info": {
   "codemirror_mode": {
    "name": "ipython",
    "version": 3
   },
   "file_extension": ".py",
   "mimetype": "text/x-python",
   "name": "python",
   "nbconvert_exporter": "python",
   "pygments_lexer": "ipython3",
   "version": "3.8.3"
  }
 },
 "nbformat": 4,
 "nbformat_minor": 4
}
