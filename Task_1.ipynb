{
 "cells": [
  {
   "cell_type": "markdown",
   "metadata": {},
   "source": [
    "## Mathematics for AI - Coursework Task 1\n",
    "\n",
    "The first task tests your Python skills. You need to develop a simple game consisting of a rectangular grid (of size height x width ) where each cell has a random integer value between 0  and 9. An agent starts at the upper-left corner of the grid and must reach the lower-right corner of the grid as fast as possible. You can implement one of the two (or both, for no extra point) game modes:\n",
    "\n",
    "• The time spent on a cell is the number on this cell\n",
    "\n",
    "• The time spent on a cell is the absolute of the difference between the previous cell the agent was on and the current cell it is on.\n",
    "\n",
    "In order to solve this problem, you will provide 3 algorithms:\n",
    "\n",
    "• A first baseline of your choosing. E.g. it can be any search algorithm, or an algorithm using heuristics. It doesn’t have to perform fast or well, but should be better than random movements.\n",
    "\n",
    "• Dijkstra's algorithm\n",
    "\n",
    "• Ant colony optimization algorithm. You should describe the algorithms and compare them.\n",
    "\n",
    "Are they always solving the problem? How long do they take depending on the size of the maze?"
   ]
  },
  {
   "cell_type": "markdown",
   "metadata": {},
   "source": [
    "### Notes\n",
    "- grid of size **heightxwidth**\n",
    "    - each cell = random integer from 0-9\n",
    "- **START** upper-left\n",
    "- **GOAL** get to lower-right as fast as possible\n",
    "- number on the cell = time spent on that cell"
   ]
  },
  {
   "cell_type": "markdown",
   "metadata": {},
   "source": [
    "## Make Grid"
   ]
  },
  {
   "cell_type": "code",
   "execution_count": 2,
   "metadata": {},
   "outputs": [],
   "source": [
    "# Import (limited) libraries\n",
    "from random import seed\n",
    "from random import randint\n",
    "import numpy as np\n",
    "import sys "
   ]
  },
  {
   "cell_type": "code",
   "execution_count": 3,
   "metadata": {},
   "outputs": [],
   "source": [
    "g = []\n",
    "width = 3\n",
    "height = 3\n",
    "seed(6)\n",
    "\n",
    "for row in range(height):\n",
    "    g.append([])\n",
    "    for column in range(width):\n",
    "        g[row].append(randint(0,9))"
   ]
  },
  {
   "cell_type": "code",
   "execution_count": 4,
   "metadata": {},
   "outputs": [
    {
     "name": "stdout",
     "output_type": "stream",
     "text": [
      "[[9 1 7]\n",
      " [4 0 0]\n",
      " [2 9 7]]\n"
     ]
    }
   ],
   "source": [
    "# Convert to numpy.array\n",
    "grid = np.array(g)\n",
    "print(grid)"
   ]
  },
  {
   "cell_type": "markdown",
   "metadata": {},
   "source": [
    "## Baseline Algorithm"
   ]
  },
  {
   "cell_type": "code",
   "execution_count": 5,
   "metadata": {},
   "outputs": [],
   "source": [
    "class Baseline():\n",
    "    \n",
    "    def __init__(self, graph):\n",
    "        self.graph = graph\n",
    "    \n",
    "    # Algorithm goes down to last row, then right to last column -> finish\n",
    "    def algorithm(self):\n",
    "        src = [0,0]\n",
    "        current = src\n",
    "        timeSpent = 0 # Total time spent by algorithm\n",
    "        X = current[1]\n",
    "        y = current[0]\n",
    "        \n",
    "        # Go down through rows\n",
    "        while(X != (height-1)):\n",
    "            X += 1\n",
    "            timeSpent += self.graph[X,y]; # Value of field added to total\n",
    "  \n",
    "        # Go right through columns\n",
    "        while(y != (width-1)):\n",
    "            y += 1\n",
    "            timeSpent += self.graph[X,y]; # Value of field added to total\n",
    "            \n",
    "        return timeSpent"
   ]
  },
  {
   "cell_type": "code",
   "execution_count": 6,
   "metadata": {},
   "outputs": [
    {
     "name": "stdout",
     "output_type": "stream",
     "text": [
      "22\n"
     ]
    }
   ],
   "source": [
    "base = Baseline(grid)\n",
    "result = base.algorithm()\n",
    "print(result)"
   ]
  },
  {
   "cell_type": "markdown",
   "metadata": {},
   "source": [
    "**Description**:\n",
    "\n",
    "- Assuming the agent can move one cell in 4 directions (LEFT, RIGHT, UP, DOWN)\n",
    "- Check adjacent cells for the quickest cell, while ignoring already visited cells.\n",
    "- Move to that cell\n",
    "- repeat until the end has been reached\n",
    "\n",
    "This algorithm does not neccesarily get the shortest path to the end, however its pathing is not random as it tries to move to the lowest valued cell adjacent to it (avoiding previously visited cells). \n",
    "\n",
    "A simple way that this algorithm could be improved:\n",
    "When recording the value of the cell, it should be divided by a scalar factor (the closer it is to the goal the smaller the calculation will be); this will reduce the value of the cell that is closer to the end goal and favour it over moving in a direction away from the goal."
   ]
  },
  {
   "cell_type": "markdown",
   "metadata": {},
   "source": [
    "## Dijkstra's Algorithm"
   ]
  },
  {
   "cell_type": "code",
   "execution_count": 111,
   "metadata": {},
   "outputs": [],
   "source": [
    "class Dijkstra:\n",
    "    \n",
    "    def __init__(self, grid, source, finish):\n",
    "        self.grid = grid\n",
    "        self.src = source\n",
    "        self.finish = finish\n",
    "    \n",
    "    def get_neighbors(self, location):\n",
    "        neighbors = []\n",
    "        if (location[0] + 1) < (height):\n",
    "            neighbors.append([location[0] + 1, location[1]])\n",
    "                              \n",
    "        if (location[0] - 1) >= 0:\n",
    "            neighbors.append([location[0]-1, location[1]])\n",
    "            \n",
    "        if (location[1] + 1) < (width):\n",
    "            neighbors.append([location[0], location[1] + 1])\n",
    "            \n",
    "        if (location[1] - 1) >= 0:\n",
    "            neighbors.append([location[0], location[1] - 1])\n",
    "        \n",
    "        return neighbors\n",
    "    \n",
    "    def get_edges(self, location):\n",
    "        neighbors = self.get_neighbors(location)\n",
    "        edges = []\n",
    "        \n",
    "        for i in neighbors:\n",
    "            edges.append(self.grid[i[0], i[1]])\n",
    "            \n",
    "        return edges\n",
    "      \n",
    "    def get_name(self, location):\n",
    "        node_name = (location[0] * 100) + location[1]\n",
    "        return str(node_name)\n",
    "    \n",
    "    def make_node(self, location):\n",
    "        \n",
    "        neighbors = self.get_neighbors(location)\n",
    "        edges = self.get_edges(location)\n",
    "        neighbor_names = []\n",
    "        node_name = self.get_name(location)\n",
    "        \n",
    "        for i in neighbors:\n",
    "            neighbor_names.append(self.get_name(i))\n",
    "            \n",
    "        neighbor_edges = dict(zip(neighbor_names, edges))\n",
    "        \n",
    "        return node_name, neighbor_edges\n",
    "    \n",
    "    def convert_grid(self):\n",
    "        nodes = {}\n",
    "        for i in range(self.finish[0]):\n",
    "            for j in range(self.finish[1]):\n",
    "                node = self.make_node([i,j])\n",
    "                nodes[node[0]] = node[1]\n",
    "        \n",
    "        return nodes"
   ]
  },
  {
   "cell_type": "code",
   "execution_count": 136,
   "metadata": {},
   "outputs": [],
   "source": [
    "src = [0,0]\n",
    "finish = [height, width]"
   ]
  },
  {
   "cell_type": "code",
   "execution_count": 133,
   "metadata": {},
   "outputs": [],
   "source": [
    "def shortestpath(graph,start,end,visited=[],distances={},predecessors={}):\n",
    "    \"\"\"Find the shortest path btw start & end nodes in a graph\"\"\"\n",
    "    # detect if first time through, set current distance to zero\n",
    "    if not visited: distances[start]=0\n",
    "    # if we've found our end node, find the path to it, and return\n",
    "    if start==end:\n",
    "        path=[]\n",
    "        while end != None:\n",
    "            path.append(end)\n",
    "            end=predecessors.get(end,None)\n",
    "        return distances[start], path[::-1]\n",
    "    # process neighbors as per algorithm, keep track of predecessors\n",
    "    for neighbor in graph[start]:\n",
    "        if neighbor not in visited:\n",
    "            neighbordist = distances.get(neighbor,sys.maxsize)\n",
    "            tentativedist = distances[start] + graph[start][neighbor]\n",
    "            if tentativedist < neighbordist:\n",
    "                distances[neighbor] = tentativedist\n",
    "                predecessors[neighbor]=start\n",
    "    # neighbors processed, now mark the current node as visited \n",
    "    visited.append(start)\n",
    "    # finds the closest unvisited node to the start \n",
    "    unvisiteds = dict((k, distances.get(k,sys.maxsize)) for k in graph if k not in visited)\n",
    "    closestnode = min(unvisiteds, key=unvisiteds.get)\n",
    "    # now take the closest node and recurse, making it current \n",
    "    return shortestpath(graph,closestnode,end,visited,distances,predecessors)"
   ]
  },
  {
   "cell_type": "code",
   "execution_count": 144,
   "metadata": {},
   "outputs": [],
   "source": [
    "s = (src[0] * 100) + src[1]\n",
    "e = ((finish[0] * 100) + finish[1]) - 101"
   ]
  },
  {
   "cell_type": "code",
   "execution_count": 145,
   "metadata": {},
   "outputs": [
    {
     "name": "stdout",
     "output_type": "stream",
     "text": [
      "(8, ['0', '1', '101', '102', '202'])\n"
     ]
    }
   ],
   "source": [
    "d = Dijkstra(grid, src, finish)\n",
    "graph = d.convert_grid()\n",
    "\n",
    "print (shortestpath(graph,str(s),str(e)))"
   ]
  },
  {
   "cell_type": "markdown",
   "metadata": {},
   "source": [
    "## Ant Colony Algorithm"
   ]
  },
  {
   "cell_type": "markdown",
   "metadata": {},
   "source": [
    "- pheromones:     when ants travel they will leave some pheromones behind, the strenght of their pheromones will be calculated.\n",
    "- vaporisation:   the pheromones will evaporate at a constant rate over time\n",
    "- multiple ants do the this.\n",
    "    - the pheromones increase the probability of the ants following that path.\n",
    "- then the final ant takes the one with the highest pheromones.\n",
    "\n"
   ]
  }
 ],
 "metadata": {
  "kernelspec": {
   "display_name": "Python 3",
   "language": "python",
   "name": "python3"
  },
  "language_info": {
   "codemirror_mode": {
    "name": "ipython",
    "version": 3
   },
   "file_extension": ".py",
   "mimetype": "text/x-python",
   "name": "python",
   "nbconvert_exporter": "python",
   "pygments_lexer": "ipython3",
   "version": "3.8.3"
  }
 },
 "nbformat": 4,
 "nbformat_minor": 4
}
