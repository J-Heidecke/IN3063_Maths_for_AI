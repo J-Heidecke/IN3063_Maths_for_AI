{
 "cells": [
  {
   "cell_type": "markdown",
   "metadata": {},
   "source": [
    "## Mathematics for AI - Coursework Task 1\n",
    "\n",
    "The first task tests your Python skills. You need to develop a simple game consisting of a rectangular grid (of size height x width ) where each cell has a random integer value between 0  and 9. An agent starts at the upper-left corner of the grid and must reach the lower-right corner of the grid as fast as possible. You can implement one of the two (or both, for no extra point) game modes:\n",
    "\n",
    "• The time spent on a cell is the number on this cell\n",
    "\n",
    "• The time spent on a cell is the absolute of the difference between the previous cell the agent was on and the current cell it is on.\n",
    "\n",
    "In order to solve this problem, you will provide 3 algorithms:\n",
    "\n",
    "• A first baseline of your choosing. E.g. it can be any search algorithm, or an algorithm using heuristics. It doesn’t have to perform fast or well, but should be better than random movements.\n",
    "\n",
    "• Dijkstra'salgorithm\n",
    "\n",
    "• Ant colony optimization algorithm. You should describe the algorithms and compare them.\n",
    "\n",
    "Are they always solving the problem? How long do they take depending on the size of the maze?"
   ]
  },
  {
   "source": [
    "### Notes\n",
    "- grid of size **heightxwidth**\n",
    "    - each cell = random integer from 0-9\n",
    "- **START** upper-left\n",
    "- **GOAL** get to lower-right as fast as possible\n",
    "- number on the cell = time spent on that cell"
   ],
   "cell_type": "markdown",
   "metadata": {}
  },
  {
   "cell_type": "markdown",
   "metadata": {},
   "source": [
    "## Make Grid"
   ]
  },
  {
   "cell_type": "code",
   "execution_count": 63,
   "metadata": {},
   "outputs": [],
   "source": [
    "# Import (limited) libraries\n",
    "from random import seed\n",
    "from random import randint\n",
    "import numpy as np\n",
    "import sys "
   ]
  },
  {
   "cell_type": "code",
   "execution_count": 64,
   "metadata": {},
   "outputs": [],
   "source": [
    "g = []\n",
    "width = 10\n",
    "height = 15\n",
    "seed(5)\n",
    "\n",
    "for row in range(height):\n",
    "    g.append([])\n",
    "    for column in range(width):\n",
    "        g[row].append(randint(0,9))"
   ]
  },
  {
   "cell_type": "code",
   "execution_count": 65,
   "metadata": {},
   "outputs": [
    {
     "name": "stdout",
     "output_type": "stream",
     "text": [
      "[[9 4 5 8 0 7 3 0 2 1]\n",
      " [5 7 3 6 8 1 9 3 0 3]\n",
      " [6 4 2 6 2 1 2 9 9 7]\n",
      " [2 2 0 0 3 3 2 2 4 5]\n",
      " [3 8 3 2 3 6 4 0 5 6]\n",
      " [2 2 4 1 5 4 9 9 0 9]\n",
      " [5 1 4 5 4 7 5 2 7 7]\n",
      " [2 0 4 0 5 6 0 8 6 5]\n",
      " [6 9 0 7 0 2 9 3 1 3]\n",
      " [7 5 8 5 8 4 7 1 9 5]\n",
      " [4 0 6 1 3 5 8 9 5 2]\n",
      " [5 4 8 1 4 5 4 2 1 2]\n",
      " [4 7 2 0 1 9 8 6 0 3]\n",
      " [9 5 4 7 6 2 0 0 7 5]\n",
      " [3 2 9 2 6 1 2 6 5 2]]\n"
     ]
    }
   ],
   "source": [
    "# Convert to numpy.array\n",
    "grid = np.array(g)\n",
    "print(grid)"
   ]
  },
  {
   "cell_type": "markdown",
   "metadata": {},
   "source": [
    "## Baseline Algorithm"
   ]
  },
  {
   "cell_type": "code",
   "execution_count": 82,
   "metadata": {},
   "outputs": [],
   "source": [
    "class Baseline():\n",
    "    \n",
    "    def __init__(self, graph):\n",
    "        self.graph = graph\n",
    "    \n",
    "    # Algorithm goes down to last row, then right to last column -> finish\n",
    "    def algorithm(self):\n",
    "        \n",
    "\n",
    "        src = [0,0]\n",
    "        current = src\n",
    "        timeSpent = 0 # Total time spent by algorithm\n",
    "        X = current[1]\n",
    "        y = current[0]\n",
    "        \n",
    "        # Go down through rows\n",
    "        while(X != (height-1)):\n",
    "            X += 1\n",
    "            print(X,y)\n",
    "            timeSpent += self.graph[X,y]; # Value of field added to total\n",
    "  \n",
    "        # Go right through columns\n",
    "        while(y != (width-1)):\n",
    "            y += 1\n",
    "            print(X,y)\n",
    "            timeSpent += self.graph[X,y]; # Value of field added to total\n",
    "            \n",
    "        return timeSpent"
   ]
  },
  {
   "cell_type": "code",
   "execution_count": 84,
   "metadata": {},
   "outputs": [
    {
     "name": "stdout",
     "output_type": "stream",
     "text": [
      "1 0\n",
      "2 0\n",
      "3 0\n",
      "4 0\n",
      "5 0\n",
      "6 0\n",
      "7 0\n",
      "8 0\n",
      "9 0\n",
      "10 0\n",
      "11 0\n",
      "12 0\n",
      "13 0\n",
      "14 0\n",
      "14 1\n",
      "14 2\n",
      "14 3\n",
      "14 4\n",
      "14 5\n",
      "14 6\n",
      "14 7\n",
      "14 8\n",
      "14 9\n",
      "98\n"
     ]
    }
   ],
   "source": [
    "base = Baseline(grid)\n",
    "result = base.algorithm()\n",
    "print(result)"
   ]
  },
  {
   "cell_type": "code",
   "execution_count": 62,
   "metadata": {},
   "outputs": [
    {
     "data": {
      "text/plain": [
       "'\\nvisited = []\\nsrc = [0,0]\\nfinish = [length-1,length-1]\\ncurrent = src\\ntimeSpent = 0\\n        \\nwhile current != finish or timeSpent > 3000:\\n    visited.append(current)\\n    print(visited)\\n    values = []\\n    X = current[1]\\n    y = current[0]\\n    timeSpent += grid[X,y]\\n    locations = [[y, X + 1],[y, X - 1], [y + 1, X],[y - 1, X]]\\n    for i in locations:\\n        if(i[0] < 0 or i[1] < 0 or i[0] > length - 1 or i[1] > length - 1):\\n            locations.remove(i)\\n    \\n    for k in locations:\\n        value = grid[k[0], k[1]]\\n        values.append(value)\\n      \\n    final = dict(zip(values, locations))\\n    moveTo = 0\\n    for l in sorted (final.keys()):  \\n        moveTo = l\\n        if(l < moveTo):\\n            moveTo = l\\n            \\n    current = final[moveTo]\\n'"
      ]
     },
     "execution_count": 62,
     "metadata": {},
     "output_type": "execute_result"
    }
   ],
   "source": [
    "'''\n",
    "visited = []\n",
    "src = [0,0]\n",
    "finish = [length-1,length-1]\n",
    "current = src\n",
    "timeSpent = 0\n",
    "        \n",
    "while current != finish or timeSpent > 3000:\n",
    "    visited.append(current)\n",
    "    print(visited)\n",
    "    values = []\n",
    "    X = current[1]\n",
    "    y = current[0]\n",
    "    timeSpent += grid[X,y]\n",
    "    locations = [[y, X + 1],[y, X - 1], [y + 1, X],[y - 1, X]]\n",
    "    for i in locations:\n",
    "        if(i[0] < 0 or i[1] < 0 or i[0] > length - 1 or i[1] > length - 1):\n",
    "            locations.remove(i)\n",
    "    \n",
    "    for k in locations:\n",
    "        value = grid[k[0], k[1]]\n",
    "        values.append(value)\n",
    "      \n",
    "    final = dict(zip(values, locations))\n",
    "    moveTo = 0\n",
    "    for l in sorted (final.keys()):  \n",
    "        moveTo = l\n",
    "        if(l < moveTo):\n",
    "            moveTo = l\n",
    "            \n",
    "    current = final[moveTo]\n",
    "'''"
   ]
  },
  {
   "source": [
    "**Description**:\n",
    "\n",
    "- Assuming the agent can move one cell in 4 directions (LEFT, RIGHT, UP, DOWN)\n",
    "- Check adjacent cells for the quickest cell, while ignoring already visited cells.\n",
    "- Move to that cell\n",
    "- repeat until the end has been reached\n",
    "\n",
    "This algorithm does not neccesarily get the shortest path to the end, however its pathing is not random as it tries to move to the lowest valued cell adjacent to it (avoiding previously visited cells). \n",
    "\n",
    "A simple way that this algorithm could be improved:\n",
    "When recording the value of the cell, it should be divided by a scalar factor (the closer it is to the goal the smaller the calculation will be); this will reduce the value of the cell that is closer to the end goal and favour it over moving in a direction away from the goal."
   ],
   "cell_type": "markdown",
   "metadata": {}
  },
  {
   "cell_type": "markdown",
   "metadata": {},
   "source": [
    "## Dijkstra's Algorithm"
   ]
  },
  {
   "cell_type": "code",
   "execution_count": 10,
   "metadata": {},
   "outputs": [
    {
     "name": "stdout",
     "output_type": "stream",
     "text": [
      "Vertex tDistance from Source\n",
      "0 t 0\n",
      "1 t 5\n",
      "2 t 3\n",
      "3 t 4\n",
      "4 t 2\n",
      "5 t 2\n",
      "6 t 8\n",
      "7 t 5\n",
      "8 t 4\n",
      "9 t 5\n"
     ]
    }
   ],
   "source": [
    "import sys \n",
    "   \n",
    "class Graph(): \n",
    "   \n",
    "    def __init__(self, vertices): \n",
    "        self.V = vertices \n",
    "        self.graph = [[0 for column in range(vertices)]  \n",
    "                    for row in range(vertices)] \n",
    "   \n",
    "    def printSolution(self, dist): \n",
    "        print (\"Vertex tDistance from Source\") \n",
    "        for node in range(self.V): \n",
    "            print (node, \"t\", dist[node]) \n",
    "   \n",
    "    # A utility function to find the vertex with  \n",
    "    # minimum distance value, from the set of vertices  \n",
    "    # not yet included in shortest path tree \n",
    "    def minDistance(self, dist, sptSet): \n",
    "   \n",
    "        # Initilaize minimum distance for next node \n",
    "        min = sys.maxsize \n",
    "   \n",
    "        # Search not nearest vertex not in the  \n",
    "        # shortest path tree \n",
    "        for v in range(self.V): \n",
    "            if dist[v] < min and sptSet[v] == False: \n",
    "                min = dist[v] \n",
    "                min_index = v \n",
    "   \n",
    "        return min_index \n",
    "   \n",
    "    # Funtion that implements Dijkstra's single source  \n",
    "    # shortest path algorithm for a graph represented  \n",
    "    # using adjacency matrix representation \n",
    "    def dijkstra(self, src): \n",
    "   \n",
    "        dist = [sys.maxsize] * self.V \n",
    "        dist[src] = 0\n",
    "        sptSet = [False] * self.V \n",
    "   \n",
    "        for cout in range(self.V): \n",
    "   \n",
    "            # Pick the minimum distance vertex from  \n",
    "            # the set of vertices not yet processed.  \n",
    "            # u is always equal to src in first iteration \n",
    "            u = self.minDistance(dist, sptSet) \n",
    "   \n",
    "            # Put the minimum distance vertex in the  \n",
    "            # shotest path tree \n",
    "            sptSet[u] = True\n",
    "   \n",
    "            # Update dist value of the adjacent vertices  \n",
    "            # of the picked vertex only if the current  \n",
    "            # distance is greater than new distance and \n",
    "            # the vertex in not in the shotest path tree \n",
    "            for v in range(self.V): \n",
    "                if self.graph[u][v] > 0 and sptSet[v] == False and dist[v] > dist[u] + self.graph[u][v]: \n",
    "                    dist[v] = dist[u] + self.graph[u][v] \n",
    "   \n",
    "        self.printSolution(dist) \n",
    "    \n",
    "g = Graph(length) \n",
    "g.graph = grid\n",
    "   \n",
    "g.dijkstra(0); "
   ]
  },
  {
   "cell_type": "markdown",
   "metadata": {},
   "source": [
    "## Ant Colony Algorithm"
   ]
  },
  {
   "source": [
    "- pheromones:     when ants travel they will leave some pheromones behind, the strenght of their pheromones will be calculated.\n",
    "- vaporisation:   the pheromones will evaporate at a constant rate over time\n",
    "- multiple ants do the this.\n",
    "    - the pheromones increase the probability of the ants following that path.\n",
    "- then the final ant takes the one with the highest pheromones.\n",
    "\n"
   ],
   "cell_type": "markdown",
   "metadata": {}
  }
 ],
 "metadata": {
  "kernelspec": {
   "display_name": "Python 3",
   "language": "python",
   "name": "python3"
  },
  "language_info": {
   "codemirror_mode": {
    "name": "ipython",
    "version": 3
   },
   "file_extension": ".py",
   "mimetype": "text/x-python",
   "name": "python",
   "nbconvert_exporter": "python",
   "pygments_lexer": "ipython3",
   "version": "3.8.3"
  }
 },
 "nbformat": 4,
 "nbformat_minor": 4
}